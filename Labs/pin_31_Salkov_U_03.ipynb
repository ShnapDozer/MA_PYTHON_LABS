{
 "cells": [
  {
   "cell_type": "markdown",
   "id": "cfb87d81-57f4-42b5-aacf-c1566916e143",
   "metadata": {},
   "source": [
    "# Практикум 2.3. Числовые ряды\n",
    "## 1. Числовой ряд. Сходящиеся и расходящиеся ряды. Сумма ряда."
   ]
  },
  {
   "cell_type": "markdown",
   "id": "0a3cc990-c518-41a3-a3b2-ad59e27542bd",
   "metadata": {},
   "source": [
    "### Упражнение 1. \n",
    "Создайте функцию, которая строит график последовательности частичных сумм ряда. В качестве входных параметров функции использовать формулуna общего члена\n",
    "последовательности и число0n рассматриваемых членов."
   ]
  },
  {
   "cell_type": "code",
   "execution_count": null,
   "id": "18d609e0-fd36-4aa7-aa5c-354ecc21a3a1",
   "metadata": {},
   "outputs": [],
   "source": []
  }
 ],
 "metadata": {
  "kernelspec": {
   "display_name": "Python 3 (ipykernel)",
   "language": "python",
   "name": "python3"
  },
  "language_info": {
   "codemirror_mode": {
    "name": "ipython",
    "version": 3
   },
   "file_extension": ".py",
   "mimetype": "text/x-python",
   "name": "python",
   "nbconvert_exporter": "python",
   "pygments_lexer": "ipython3",
   "version": "3.9.13"
  }
 },
 "nbformat": 4,
 "nbformat_minor": 5
}
