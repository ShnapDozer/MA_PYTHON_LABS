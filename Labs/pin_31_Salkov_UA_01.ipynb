{
 "cells": [
  {
   "cell_type": "markdown",
   "id": "1e414cda-5103-4884-8475-2e268eea5a3a",
   "metadata": {},
   "source": [
    "# Практикум 2.1. Интегрирование"
   ]
  },
  {
   "cell_type": "markdown",
   "id": "f420e897-76ed-4d4c-a973-446e99b1bef0",
   "metadata": {},
   "source": [
    " ## 1. Символьное вычисление неопределённого интеграла. \n",
    " ### Пример 1.\n"
   ]
  },
  {
   "cell_type": "code",
   "execution_count": 24,
   "id": "d894cdb7-aba4-4ff8-a4b7-1d8137686175",
   "metadata": {},
   "outputs": [
    {
     "name": "stdout",
     "output_type": "stream",
     "text": [
      "⎛ 3      2          ⎞  x\n",
      "⎝x  - 3⋅x  + 6⋅x - 6⎠⋅ℯ \n"
     ]
    }
   ],
   "source": [
    "from sympy import *\n",
    "x = Symbol('x')\n",
    "I = integrate(x**3*exp(x),x)\n",
    "pprint(I)"
   ]
  },
  {
   "cell_type": "markdown",
   "id": "5ebb5909-fa78-436c-92b2-5717de013acf",
   "metadata": {},
   "source": [
    "### Упражнение 1. Вычислить неопределённые интегралы:"
   ]
  },
  {
   "cell_type": "code",
   "execution_count": 25,
   "id": "fc0d05c3-8da2-4099-a550-a30792869aa6",
   "metadata": {},
   "outputs": [
    {
     "name": "stdout",
     "output_type": "stream",
     "text": [
      "  x⋅cos(5⋅x)   sin(5⋅x)\n",
      "- ────────── + ────────\n",
      "      5           25   \n",
      "                      ⎛ 2    ⎞                       \n",
      "  4⋅log(x - 2)   2⋅log⎝x  + 1⎠   3⋅atan(x)      1    \n",
      "- ──────────── + ───────────── + ───────── - ────────\n",
      "       25              25            25      5⋅x - 10\n"
     ]
    }
   ],
   "source": [
    "from sympy import *\n",
    "x = Symbol('x')\n",
    "I = integrate(x*sin(5*x),x)\n",
    "pprint(I)\n",
    "\n",
    "I = integrate(1/((x**2 + 1) * ((x-2)**2)),x)\n",
    "pprint(I)"
   ]
  },
  {
   "cell_type": "markdown",
   "id": "2e7f21c3-24e4-4f04-96ea-ec3467171ecf",
   "metadata": {},
   "source": [
    "## 2. Символьное вычисление определённого интеграла. \n",
    "### Упражнение 2. Вычислить определённые интегралы в символьном виде:"
   ]
  },
  {
   "cell_type": "code",
   "execution_count": 26,
   "id": "d7a4872a-d083-4b6a-8fb7-0f2ab9c9a0bc",
   "metadata": {},
   "outputs": [
    {
     "name": "stdout",
     "output_type": "stream",
     "text": [
      "     ┌─  ⎛-0.5, 1/2 │  ⎞\n",
      "2.0⋅ ├─  ⎜          │ 1⎟\n",
      "    2╵ 1 ⎝   3/2    │  ⎠\n",
      "       3\n",
      "1   2⋅ℯ \n",
      "─ + ────\n",
      "9    9  \n"
     ]
    }
   ],
   "source": [
    "from sympy import *\n",
    "x = Symbol('x')\n",
    "I = integrate((1-x**2)**(1/2),(x, -1, 1))\n",
    "pprint(I)\n",
    "\n",
    "I = integrate(x * exp(3*x),(x, 0, 1))\n",
    "pprint(I)"
   ]
  },
  {
   "cell_type": "markdown",
   "id": "3a9d7d38-9417-442a-96e6-75ec8eadc5e3",
   "metadata": {},
   "source": [
    "## 3. Интегральные суммы и суммы Дарбу.\n",
    "### Упражнение 3. \n",
    "#### Создать функции, вычисляющие значения интегральных сумм на отрезке[a;b] при равномерном разбиении его наn отрезков и выбором точек на (использовать пакеты numpy и scipy):\n",
    "\n",
    "а) левых концах отрезков разбиения;\n",
    "\n",
    "б) правых концах отрезков разбиения.\n",
    "\n",
    "Проверить работу функций, сопоставив результат выполнения программы и\n",
    "результат, полученный вручную, для интегральных сумм функции( )f x x на от-\n",
    "резке[1;2] при разбиении его на четыре равных части."
   ]
  },
  {
   "cell_type": "code",
   "execution_count": 2,
   "id": "2d758d28-2d77-41bb-9186-7e00167686bd",
   "metadata": {},
   "outputs": [
    {
     "name": "stdout",
     "output_type": "stream",
     "text": [
      "Left =  1.37500000000000 is equal 1.375 -  True\n",
      "Right =  1.62500000000000 is equal 1.625 -  True\n"
     ]
    }
   ],
   "source": [
    "from sympy import *\n",
    "\n",
    "def intSummL(a, b, n, func):\n",
    "    deltX = (b - a) / n\n",
    "    summ = 0\n",
    "    for i in range(n):\n",
    "        summ += func.subs(x, a + deltX * i)* deltX\n",
    "    return summ\n",
    "\n",
    "def intSummR(a, b, n, func):\n",
    "    deltX = (b - a) / n\n",
    "    summ = 0\n",
    "    for i in range(1, n + 1):\n",
    "        summ += func.subs(x, a + deltX * i)* deltX\n",
    "    return summ\n",
    "\n",
    "x = Symbol('x')\n",
    "f = x\n",
    "print(\"Left = \", intSummL(1, 2, 4, f), \"is equal 1.375 - \", intSummL(1, 2, 4, f) == 1.375)\n",
    "print(\"Right = \", intSummR(1, 2, 4, f), \"is equal 1.625 - \",intSummR(1, 2, 4, f) == 1.625)"
   ]
  },
  {
   "cell_type": "markdown",
   "id": "d7f5e36c-e4fc-48eb-aa56-86e53243bf4d",
   "metadata": {},
   "source": [
    "### Упражнение 4. \n",
    "Создать функции, вычисляющие значения верхних и нижних сумм Дарбу на отрезке[ ; ]a b при равномерном разбиении его наn отрезков.\n",
    "Проверить работу функций, сопоставив результат выполнения программы и результат, полученный вручную, для сумм Дарбу функции( )f x x на отрезке[1;2]\n",
    "при разбиении его на четыре равных части."
   ]
  },
  {
   "cell_type": "code",
   "execution_count": 28,
   "id": "372826b8-8391-4d05-8af9-a0a76634b0e1",
   "metadata": {},
   "outputs": [
    {
     "name": "stdout",
     "output_type": "stream",
     "text": [
      "Up =  1.62500000000000 is equal 1.625 -  True\n",
      "Down =  1.37500000000000 is equal 1.375 -  True\n"
     ]
    }
   ],
   "source": [
    "from sympy import *\n",
    "\n",
    "def darbuSummU(a, b, n, func):\n",
    "    deltX = (b - a) / n\n",
    "    summ = 0\n",
    "    for i in range(1, n + 1):\n",
    "        summ += func.subs(x, maximum(func, x, Interval(a + deltX * (i - 1), a + deltX * i)))* deltX\n",
    "    return summ\n",
    "\n",
    "def darbuSummD(a, b, n, func):\n",
    "    deltX = (b - a) / n\n",
    "    summ = 0\n",
    "    for i in range(1, n + 1):\n",
    "        summ += func.subs(x, minimum(func, x, Interval(a + deltX * (i - 1), a + deltX * i)))* deltX\n",
    "    return summ\n",
    "\n",
    "\n",
    "x = Symbol('x')\n",
    "f = x\n",
    "print(\"Up = \", darbuSummU(1, 2, 4, f), \"is equal 1.625 - \", darbuSummU(1, 2, 4, f) == 1.625)\n",
    "print(\"Down = \", darbuSummD(1, 2, 4, f), \"is equal 1.375 - \", darbuSummD(1, 2, 4, f) == 1.375)"
   ]
  },
  {
   "cell_type": "markdown",
   "id": "eaf22ed2-827e-4ac4-a00d-c34eb04c37b0",
   "metadata": {},
   "source": [
    "### Упражнение 5. \n",
    "Используя функции упр. 3 и 4, вычислить интегральные суммы и суммы Дарбу для на отрезке[1;2] при1000"
   ]
  },
  {
   "cell_type": "code",
   "execution_count": 29,
   "id": "a1f7ee9b-b4ca-4795-b541-9bba7fb6d168",
   "metadata": {},
   "outputs": [
    {
     "name": "stdout",
     "output_type": "stream",
     "text": [
      "Up =  0.972468581531889\n",
      "Down =  0.972594823107029\n",
      "Left =  0.135432095059166\n",
      "Right =  0.135082531256884\n"
     ]
    }
   ],
   "source": [
    "from sympy import *\n",
    "\n",
    "x = Symbol('x')\n",
    "f = exp(-x**2)\n",
    "\n",
    "print(\"Up = \", darbuSummU(1, 2, 1000, f))\n",
    "print(\"Down = \", darbuSummD(1, 2, 1000, f))\n",
    "print(\"Left = \", intSummL(1, 2, 1000, f))\n",
    "print(\"Right = \", intSummR(1, 2, 1000, f))"
   ]
  },
  {
   "cell_type": "markdown",
   "id": "4dc317f5-693d-4410-9127-f711d973b16d",
   "metadata": {},
   "source": [
    "## 4. Численное интегрирование. "
   ]
  },
  {
   "cell_type": "code",
   "execution_count": 30,
   "id": "94919885-2f09-4fd6-8d1c-c10dc661a9e5",
   "metadata": {},
   "outputs": [
    {
     "data": {
      "text/plain": [
       "0.9564491423375598"
      ]
     },
     "execution_count": 30,
     "metadata": {},
     "output_type": "execute_result"
    }
   ],
   "source": [
    "import scipy.integrate as integrate\n",
    "import numpy as np\n",
    "\n",
    "x = np.linspace(-1,2,1000)\n",
    "integrate.simpson(np.sin(x),x)"
   ]
  },
  {
   "cell_type": "markdown",
   "id": "8057b721-7363-45eb-8f5c-b8d3ea27bb0f",
   "metadata": {},
   "source": [
    "### Упражнение 6.\n",
    "\n",
    "Вычислить,  используя функцию integrate.simpson.Сравнить результат с результатами упражнения 5, вычислив разности между численным значением интеграла, полученным по формуле Симпсона (взяв разбиение на 100 интервалов и на 1000), и значениями интегральных сумм и сумм Дарбу."
   ]
  },
  {
   "cell_type": "code",
   "execution_count": 31,
   "id": "4b8fbcc5-f5a1-409f-a2a5-07213baef665",
   "metadata": {},
   "outputs": [
    {
     "name": "stdout",
     "output_type": "stream",
     "text": [
      "Simpson 100 =  1.6289066638922838\n",
      "Up      100 =  0.971896615807727 Different =  0.657010048084557\n",
      "Down    100 =  0.973159031559130 Different =  0.655747632333154\n",
      "Left    100 =  0.137010597794744 Different =  1.49189606609754\n",
      "Right   100 =  0.133514959771917 Different =  1.49539170412037\n"
     ]
    }
   ],
   "source": [
    "import scipy.integrate as integrate\n",
    "import numpy as np\n",
    "\n",
    "x = np.linspace(-1,2,100)\n",
    "IS = integrate.simpson(np.exp(-x**2),x)\n",
    "\n",
    "\n",
    "\n",
    "x = Symbol('x')\n",
    "f = exp(-x**2)\n",
    "\n",
    "DSU = darbuSummU(1, 2, 100, f)\n",
    "DSD = darbuSummD(1, 2, 100, f)\n",
    "ISL = intSummL(1, 2, 100, f)\n",
    "ISR = intSummR(1, 2, 100, f)\n",
    "\n",
    "print(\"Simpson 100 = \", IS)\n",
    "print(\"Up      100 = \", DSU, \"Different = \", abs(IS - DSU))\n",
    "print(\"Down    100 = \", DSD, \"Different = \", abs(IS - DSD))\n",
    "print(\"Left    100 = \", ISL, \"Different = \", abs(IS - ISL))\n",
    "print(\"Right   100 = \", ISR, \"Different = \", abs(IS - ISR))"
   ]
  },
  {
   "cell_type": "code",
   "execution_count": 32,
   "id": "8111bd1c-3019-480e-aa84-bcaab8662d98",
   "metadata": {},
   "outputs": [
    {
     "name": "stdout",
     "output_type": "stream",
     "text": [
      "Simpson 1000 =  1.628905524693481\n",
      "Up      1000 =  0.972468581531889 Different =  0.656436943161592\n",
      "Down    1000 =  0.972594823107029 Different =  0.656310701586452\n",
      "Left    1000 =  0.135432095059166 Different =  1.49347342963431\n",
      "Right   1000 =  0.135082531256884 Different =  1.49382299343660\n"
     ]
    }
   ],
   "source": [
    "import scipy.integrate as integrate\n",
    "import numpy as np\n",
    "\n",
    "x = np.linspace(-1,2,1000)\n",
    "IS = integrate.simpson(np.exp(-x**2),x)\n",
    "\n",
    "from sympy import *\n",
    "\n",
    "x = Symbol('x')\n",
    "f = exp(-x**2)\n",
    "\n",
    "DSU = darbuSummU(1, 2, 1000, f)\n",
    "DSD = darbuSummD(1, 2, 1000, f)\n",
    "ISL = intSummL(1, 2, 1000, f)\n",
    "ISR = intSummR(1, 2, 1000, f)\n",
    "\n",
    "print(\"Simpson 1000 = \", IS)\n",
    "print(\"Up      1000 = \", DSU, \"Different = \", abs(IS - DSU))\n",
    "print(\"Down    1000 = \", DSD, \"Different = \", abs(IS - DSD))\n",
    "print(\"Left    1000 = \", ISL, \"Different = \", abs(IS - ISL))\n",
    "print(\"Right   1000 = \", ISR, \"Different = \", abs(IS - ISR))"
   ]
  },
  {
   "cell_type": "markdown",
   "id": "ff58486f-0cc6-43cd-a3c7-fb07716a5e16",
   "metadata": {},
   "source": [
    "## Задания для самостоятельной работы\n",
    "### 2. Ответить на контрольные вопросы:\n",
    "    1) Почему при символьном вычислении неопределенного интеграла от функции с действительной областью определения и действительным множеством значений результат может содержать комплексные числа?\n",
    "    2) Что представляет собой с геометрической точки зрения интегральная сумма?, нижняя сумма Дарбу?, верхняя сумма Дарбу?\n",
    "    3) Предположим, что нам неизвестно аналитическое задание функции но известно, что( )f x непрерывна на[ , ]a b , и известны наименьшие и наибольшие значения( )f x на каждом из 100  равномерного разбиения отрезка[ , ]a b . Как нам оценить значения? Можем мы ли мы найти приближенное значение интеграла с помощью функции integrate.simpson?"
   ]
  },
  {
   "cell_type": "markdown",
   "id": "c3e04b13-1114-4fa2-bce0-d884bd4df2c0",
   "metadata": {},
   "source": [
    "### 3. Самостоятельно выполнить упражнения:"
   ]
  },
  {
   "cell_type": "markdown",
   "id": "979f36f5-417b-4b6f-8f20-5316379ce5b0",
   "metadata": {},
   "source": [
    "### Упражнение С1. Вычислить интеграл\n",
    "    а) используя средства python;\n",
    "    б) без использования python.\n",
    "Сопоставить и объяснить результаты."
   ]
  },
  {
   "cell_type": "code",
   "execution_count": 33,
   "id": "a7643212-fc7d-45cc-973e-9595fefc792b",
   "metadata": {},
   "outputs": [
    {
     "name": "stdout",
     "output_type": "stream",
     "text": [
      "              -0.5\n",
      "⎛ 2          ⎞    \n",
      "⎝x  + 2⋅x + 3⎠    \n",
      "\n",
      "⌠                      \n",
      "⎮               -0.5   \n",
      "⎮ ⎛ 2          ⎞       \n",
      "⎮ ⎝x  + 2⋅x + 3⎠     dx\n",
      "⌡                      \n"
     ]
    }
   ],
   "source": [
    "from sympy import *\n",
    "x = Symbol('x')\n",
    "I = integrate(1/(x**2 + 2*x + 3)**(1/2),x)\n",
    "\n",
    "pprint(1/(x**2 + 2*x + 3)**(1/2))\n",
    "print()\n",
    "pprint(I)"
   ]
  },
  {
   "cell_type": "markdown",
   "id": "7708ff7b-0b34-407b-aa86-fa98d1289852",
   "metadata": {},
   "source": [
    "### Упражнение С2.\n",
    "Вычислить определённый интеграл, используя символьное вычисление python."
   ]
  },
  {
   "cell_type": "code",
   "execution_count": 34,
   "id": "7bf428eb-433b-41df-9ece-6ef6c4438da0",
   "metadata": {},
   "outputs": [
    {
     "name": "stdout",
     "output_type": "stream",
     "text": [
      "   ⎛ 2⎞\n",
      "   ⎜π ⎟\n",
      "sin⎜──⎟\n",
      "   ⎝4 ⎠\n",
      "───────\n",
      "   2   \n"
     ]
    }
   ],
   "source": [
    "from sympy import *\n",
    "x = Symbol('x')\n",
    "I = integrate(x * cos(x**2),(x, 0, pi/2))\n",
    "pprint(I)"
   ]
  },
  {
   "cell_type": "markdown",
   "id": "76420af2-3a46-40bf-a4ad-523ea673d052",
   "metadata": {},
   "source": [
    "### Упражнение С3. \n",
    "Создать функцию, вычисляющую значения интегральных сумм на отрезке[ ; ]a b при равномерном разбиении его наn отрезков и выбором точек, делящих отрезки разбиения в произвольном заданном отношении. \n",
    "Проверить работу функции, сопоставив результат выполнения программы и результат, полученный вручную, для интегральных сумм функции( )f x x на отрезке[1;2] при разбиении его на четыре\n",
    "равных части и выбором точек, делящих отрезки разбиения пополам."
   ]
  },
  {
   "cell_type": "code",
   "execution_count": 35,
   "id": "04f45210-01e1-4fe3-bba3-29f7a1d10c75",
   "metadata": {},
   "outputs": [
    {
     "name": "stdout",
     "output_type": "stream",
     "text": [
      "1 1.125 1.25 1.0\n",
      "1 1.375 1.5 1.25\n",
      "1 1.625 1.75 1.5\n",
      "1 1.875 2.0 1.75\n",
      "1.50000000000000\n"
     ]
    }
   ],
   "source": [
    "def intSummA(a, b, n, alpha, func):\n",
    "    deltX = (b - a) / (n)\n",
    "    summ = 0\n",
    "    for i in range(1, n + 1):\n",
    "        deltA = ((a + deltX * i) - (a + deltX * (i - 1))) / alpha\n",
    "        for j in range(1, alpha):\n",
    "            print(j, (a + deltX * (i - 1))  + deltA * j, (a + deltX * i), (a + deltX * (i - 1)))\n",
    "            summ += func.subs(x, (a + deltX * (i - 1)  + deltA * j))* deltX\n",
    "    return summ\n",
    "\n",
    "x = Symbol('x')\n",
    "f = x\n",
    "print(intSummA(1,2,4,2,f))"
   ]
  },
  {
   "cell_type": "markdown",
   "id": "6dbea744-1557-4d6e-a2a2-97384c03de6e",
   "metadata": {},
   "source": [
    "## Индивидуальные задания\n",
    "номер компьютера - 3"
   ]
  },
  {
   "cell_type": "markdown",
   "id": "65107636-b29f-4cb5-af36-e189391fa0f9",
   "metadata": {},
   "source": [
    "### Задание 1.\n",
    "Вычислить значения интегральных сумм функции( )f x на отрезке[ ; ]a b при его разбиении наn равных частей и выборе в качествеk точек, делящих отрезки разбиения в указанном отношении.\n",
    "Рассмотреть2,4,8,16,...,1024n. Результаты представить в виде таблицы. Сравнить результаты со значением определенного интеграла, полученным аналитически.\n",
    "\n",
    "Тк alpha = 1  воспользуемся интегральной суммой с выбором точек на правых концах отрезков"
   ]
  },
  {
   "cell_type": "markdown",
   "id": "5e3e070e-b730-4f46-a9a8-efd83027e92b",
   "metadata": {},
   "source": [
    "### Задание 2.\n",
    "Оценить значение( ) с помощью сумм Дарбу при разбие-нии отрезка наn равных частей. Рассмотреть2,4,8,16,...,1024n  . Полученными езультатами дополнить таблицу из задания 1. \n",
    "общие рекомендации к выполнению заданий: написанный при выполнении каждого задания m-файл протестировать, сопоставив для4n  результаты выполнения программ с расчетами, \n",
    "проделанными «вручную».\n",
    "\n",
    "### Аналогично заданию 1 тк alpha = 1, следовательно, что в первом, что во втором задании мы считает правые суммы.\n",
    "### Аналитически получаем интеграл 2x**3/3, после подставления пределов интегрирования получаем - 37,33333..."
   ]
  },
  {
   "cell_type": "code",
   "execution_count": 3,
   "id": "9c9b854d-76ea-41fb-946c-4dc59f17d028",
   "metadata": {},
   "outputs": [
    {
     "name": "stdout",
     "output_type": "stream",
     "text": [
      "n = 2 integral = 26.0000000000000\n",
      "n = 4 integral = 31.5000000000000\n",
      "n = 8 integral = 34.3750000000000\n",
      "n = 16 integral = 35.8437500000000\n",
      "n = 32 integral = 36.5859375000000\n",
      "n = 64 integral = 36.9589843750000\n",
      "n = 128 integral = 37.1459960937500\n",
      "n = 256 integral = 37.2396240234375\n",
      "n = 512 integral = 37.2864685058594\n",
      "n = 1024 integral = 37.3098983764648\n"
     ]
    }
   ],
   "source": [
    "from sympy import *\n",
    "\n",
    "x = Symbol('x')\n",
    "f = 2*x**2\n",
    "\n",
    "for i in (2**p for p in range(1, 11)):\n",
    "    print(\"n =\", i, \"integral =\", intSummR(-4, -2, i, f))"
   ]
  },
  {
   "cell_type": "code",
   "execution_count": null,
   "id": "c377be6c-6bd8-4049-830d-7d1578ea8d40",
   "metadata": {},
   "outputs": [],
   "source": []
  },
  {
   "cell_type": "code",
   "execution_count": null,
   "id": "a56d638f-4ffb-49e2-a293-075a9004b110",
   "metadata": {},
   "outputs": [],
   "source": []
  }
 ],
 "metadata": {
  "kernelspec": {
   "display_name": "Python 3 (ipykernel)",
   "language": "python",
   "name": "python3"
  },
  "language_info": {
   "codemirror_mode": {
    "name": "ipython",
    "version": 3
   },
   "file_extension": ".py",
   "mimetype": "text/x-python",
   "name": "python",
   "nbconvert_exporter": "python",
   "pygments_lexer": "ipython3",
   "version": "3.9.13"
  }
 },
 "nbformat": 4,
 "nbformat_minor": 5
}
